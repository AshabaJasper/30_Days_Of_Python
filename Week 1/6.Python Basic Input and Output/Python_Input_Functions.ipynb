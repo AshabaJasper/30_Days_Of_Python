{
 "cells": [
  {
   "attachments": {},
   "cell_type": "markdown",
   "metadata": {},
   "source": [
    "# Day 6 Continued: Python Input Functions 🌟🎉🚀\n",
    "\n",
    "Hello Pythonista! 🎉👨‍💻👩‍💻 We are still on Day 6 of the 30 days of Python code challenge! Now, let's learn about the input functions in Python.\n",
    "\n",
    "## Python Input Functions 🎹\n",
    "\n",
    "Python provides two built-in functions to read a line of text from standard input, which by default comes from the keyboard.\n",
    "\n",
    "1. **The input Function**: The `input([prompt])` function reads a line from input, converts it to a string (stripping a trailing newline), and returns that.\n",
    "\n",
    "Example:\n",
    "\n",
    "\\# Use of input function\n",
    "name = input(\"What's your name? \")\n",
    "print(f\"Hello, {name}!\")\n",
    "\n",
    "2. **Type Conversion after Input**: Sometimes you may want to convert the user input to the desired type (like integer, float, etc.). For that, you can wrap your input function with the appropriate type conversion function.\n",
    "\n",
    "Example:\n",
    "\n",
    "\\# Input with type conversion\n",
    "age = int(input(\"How old are you? \"))\n",
    "print(f\"You are {age} years old.\")\n",
    "\n",
    "3. **Taking Multiple Inputs**: If you want to take multiple inputs in a single line, you can use the split() function along with the input function.\n",
    "\n",
    "Example:\n",
    "\n",
    "\\# Taking multiple inputs\n",
    "name, age = input(\"Enter your name and age: \").split()\n",
    "print(f\"Name: {name}, Age: {age}\")\n",
    "\n",
    "## Exercise 🏋️‍♀️🤓🎯🏁\n",
    "\n",
    "1. Write a Python program that asks the user for their name and age, and then prints a greeting message with their name and age.\n",
    "\n",
    "2. Write a Python program that asks the user for two numbers, and then prints the sum of the two numbers.\n",
    "\n",
    "3. Write a Python program that asks the user for multiple values (name, age, favorite color) in a single line and then prints those values.\n",
    "\n",
    "4. Write a Python program that asks the user to enter a list of comma-separated numbers and then converts that string of numbers into a list and prints it.\n",
    "\n",
    "Happy Coding! 🚀👩‍💻👨‍💻💻🌟\n"
   ]
  }
 ],
 "metadata": {
  "language_info": {
   "name": "python"
  },
  "orig_nbformat": 4
 },
 "nbformat": 4,
 "nbformat_minor": 2
}
