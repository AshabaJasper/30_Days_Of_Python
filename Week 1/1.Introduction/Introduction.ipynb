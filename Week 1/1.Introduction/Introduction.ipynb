{
 "cells": [
  {
   "attachments": {},
   "cell_type": "markdown",
   "metadata": {},
   "source": [
    "## 📚 Introduction to Programming Languages and Python Setup 🚀\n",
    "\n",
    "Programming languages are the tools we use to write software, build websites, automate tasks, and more. They can be broadly categorized based on different factors like programming paradigm, abstraction level, and more.\n"
   ]
  },
  {
   "attachments": {},
   "cell_type": "markdown",
   "metadata": {},
   "source": [
    "### 👨‍💻 Programming Languages\n",
    "\n",
    "Programming languages can be classified into several types:\n",
    "\n",
    "1. **High-Level Languages** 😊: These are programmer-friendly languages that provide a high level of abstraction from the hardware. They are easy to learn and use. Examples include Python, Java, JavaScript, C++, C#, and Ruby.\n",
    "\n",
    "2. **Low-Level Languages** 🤖: These languages provide little or no abstraction from the hardware and are directly written for a specific hardware architecture. They are harder to learn and understand. Examples include Assembly language and Machine language.\n",
    "\n",
    "3. **Procedural Programming Languages** 📋: In procedural programming, a program is divided into one or more units or modules. Each module is a separate set of instructions that accomplishes a specific task. Examples include C, FORTRAN, and Pascal.\n",
    "\n",
    "4. **Object-Oriented Programming (OOP) Languages** 🎭: OOP languages are based on the concept of \"objects\" which can contain data and code: data in the form of fields, and code, in the form of procedures. Examples include Python, Java, C++, and Ruby.\n",
    "\n",
    "5. **Functional Programming Languages** 🔄: Functional programming languages treat computation as the evaluation of mathematical functions and avoids changing-state and mutable data. Examples include Haskell, Lisp, and Scala.\n",
    "\n",
    "6. **Scripting Languages** 📜: Scripting languages are often interpreted rather than compiled. They are often used for automating tasks, and for developing certain types of applications like web or game scripting. Examples include Python, Perl, and JavaScript.\n",
    "\n",
    "---"
   ]
  },
  {
   "attachments": {},
   "cell_type": "markdown",
   "metadata": {},
   "source": [
    "## 🐍 Introduction to Python\n",
    "\n",
    "Python is a high-level, interpreted, and general-purpose dynamic programming language that focuses on code readability. It is widely used due to its elegant syntax and readability.\n",
    "\n",
    "Python supports multiple programming paradigms, including procedural, object-oriented, and functional programming. Python is often described as a \"batteries included\" language due to its comprehensive standard library.\n",
    "\n",
    "---"
   ]
  },
  {
   "attachments": {},
   "cell_type": "markdown",
   "metadata": {},
   "source": [
    "## ⚙️ Python Setup\n",
    "\n",
    "Python comes pre-installed on many platforms, but if you need to install it or want to upgrade to the latest version, you can download it from the official website:\n",
    "\n",
    "[Download Python](https://www.python.org/downloads/)\n",
    "\n",
    "We will be using Jupyter Notebooks for this challenge, a web-based interactive computational environment perfect for Python. If you don't have it installed, it can be installed with Anaconda distribution which includes Python, Jupyter, and other commonly used packages for scientific computing and data science.\n",
    "\n",
    "[Download Anaconda](https://www.anaconda.com/products/distribution)\n",
    "\n",
    "After installation, you can start Jupyter by typing the following command in your terminal:\n",
    "\n",
    "`jupyter notebook`\n",
    "\n",
    "This will open the Jupyter notebook interface in your default web browser.\n",
    "\n",
    "---\n"
   ]
  }
 ],
 "metadata": {
  "language_info": {
   "name": "python"
  },
  "orig_nbformat": 4
 },
 "nbformat": 4,
 "nbformat_minor": 2
}
