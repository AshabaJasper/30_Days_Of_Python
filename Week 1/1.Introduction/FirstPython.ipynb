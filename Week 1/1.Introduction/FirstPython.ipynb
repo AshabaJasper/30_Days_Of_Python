{
 "cells": [
  {
   "cell_type": "code",
   "execution_count": null,
   "metadata": {},
   "outputs": [],
   "source": [
    "print(\"Hello World\")"
   ]
  },
  {
   "attachments": {},
   "cell_type": "markdown",
   "metadata": {},
   "source": [
    "# Your First Python Program\n",
    "\n",
    "In Python, as in any other programming language, the typical first program you write is the \"Hello, World!\" program. This is a simple program that prints the message \"Hello, World!\" to the console. Here's how you do it in Python:\n",
    "\n",
    "```python\n",
    "print(\"Hello, World!\")\n"
   ]
  },
  {
   "attachments": {},
   "cell_type": "markdown",
   "metadata": {},
   "source": [
    "Commenting in Python  \n",
    "In Python, you can add comments to your code using the # symbol. Anything written after # on the same line is considered a comment and is ignored by Python when running the code. Here is an example:"
   ]
  }
 ],
 "metadata": {
  "language_info": {
   "name": "python"
  },
  "orig_nbformat": 4
 },
 "nbformat": 4,
 "nbformat_minor": 2
}
