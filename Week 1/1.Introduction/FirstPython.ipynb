{
 "cells": [
  {
   "cell_type": "code",
   "execution_count": null,
   "metadata": {},
   "outputs": [],
   "source": [
    "print(\"Hello World\")"
   ]
  },
  {
   "attachments": {},
   "cell_type": "markdown",
   "metadata": {},
   "source": [
    "# Your First Python Program\n",
    "\n",
    "In Python, as in any other programming language, the typical first program you write is the \"Hello, World!\" program. This is a simple program that prints the message \"Hello, World!\" to the console. Here's how you do it in Python:\n",
    "\n",
    "```python\n",
    "print(\"Hello, World!\")\n"
   ]
  },
  {
   "attachments": {},
   "cell_type": "markdown",
   "metadata": {},
   "source": [
    "# Commenting in Python\n",
    "\n",
    "In Python, you can add comments to your code using the `#` symbol. Anything written after `#` on the same line is considered a comment and is ignored by Python when running the code. Here is an example:"
   ]
  },
  {
   "cell_type": "code",
   "execution_count": null,
   "metadata": {},
   "outputs": [],
   "source": [
    "# This is a comment. Python will ignore it when running the code.\n",
    "print(\"Hello, World!\") # This is also a comment."
   ]
  },
  {
   "attachments": {},
   "cell_type": "markdown",
   "metadata": {},
   "source": [
    "Comments are very useful for explaining what your code does, and they're especially helpful for other people reading your code (or for you, if you come back to your code after a while and don't remember what everything does)."
   ]
  },
  {
   "attachments": {},
   "cell_type": "markdown",
   "metadata": {},
   "source": [
    "# Good Coding Practices\n",
    "\n",
    "Here are some good coding practices to keep in mind when you're programming, especially in Python:\n",
    "\n",
    "1. **Use meaningful variable names**: Variable names should be descriptive and tell you what the variable is used for. For example, if you have a variable that stores a person's age, it's better to name it `age` or `person_age` rather than something vague like `a` or `x`.\n"
   ]
  },
  {
   "cell_type": "code",
   "execution_count": null,
   "metadata": {},
   "outputs": [],
   "source": [
    "# Good variable name\n",
    "age = 25\n",
    "\n",
    "# Bad variable names\n",
    "a = 25\n",
    "x = 25\n"
   ]
  },
  {
   "attachments": {},
   "cell_type": "markdown",
   "metadata": {},
   "source": [
    "2. **Use comments judiciously**: While it's good to comment your code, you don't need to comment every single line. Instead, use comments to explain the more complex parts of your code, or to give an overview of what a section of code does."
   ]
  },
  {
   "attachments": {},
   "cell_type": "markdown",
   "metadata": {},
   "source": [
    "3. **Keep your code DRY (Don't Repeat Yourself)**: If you find that you're writing the same or very similar code in multiple places, it's often a good idea to write a function to do that task, and then call that function whenever you need to perform that task."
   ]
  },
  {
   "cell_type": "code",
   "execution_count": null,
   "metadata": {},
   "outputs": [],
   "source": [
    "def greet(name):\n",
    "    print(f\"Hello, {name}!\")\n",
    "\n",
    "# Calling the function\n",
    "greet(\"Alice\")\n",
    "greet(\"Bob\")"
   ]
  },
  {
   "attachments": {},
   "cell_type": "markdown",
   "metadata": {},
   "source": [
    "4. **Indentation is important in Python**: Python uses indentation to determine the grouping of statements. It is important to consistently use four spaces for indentation."
   ]
  },
  {
   "cell_type": "code",
   "execution_count": null,
   "metadata": {},
   "outputs": [],
   "source": [
    "# don't worry if you don't understand the concept here, we shall explain what this code does, for now focus on the indetation\n",
    "def if_example(x):\n",
    "    if x > 0:\n",
    "        print(\"x is positive\")\n",
    "    else:\n",
    "        print(\"x is not positive\")\n",
    "\n",
    "if_example(5)\n",
    "if_example(-5)\n"
   ]
  },
  {
   "attachments": {},
   "cell_type": "markdown",
   "metadata": {},
   "source": [
    "Remember, good coding practices make your code easier to read, understand, and maintain. They're essential for working effectively, especially when you're collaborating with others.\n",
    "\n",
    "Happy coding!"
   ]
  }
 ],
 "metadata": {
  "language_info": {
   "name": "python"
  },
  "orig_nbformat": 4
 },
 "nbformat": 4,
 "nbformat_minor": 2
}
