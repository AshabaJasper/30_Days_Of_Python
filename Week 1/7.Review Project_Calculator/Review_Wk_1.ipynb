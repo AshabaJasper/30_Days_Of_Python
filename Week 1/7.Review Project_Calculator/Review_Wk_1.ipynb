{
 "cells": [
  {
   "attachments": {},
   "cell_type": "markdown",
   "metadata": {},
   "source": [
    "# Day 7: Review from Day 1 to Day 6 🌟🎉🚀\n",
    "\n",
    "Hello Pythonista! 🎉👨‍💻👩‍💻 Welcome to Day 7 of the 30 days of Python code challenge! Today, let's go through an in-depth review of the concepts from Day 1 to Day 6.\n",
    "\n",
    "## Day 1: Python Introduction and Installation 💼🐍\n",
    "\n",
    "We started our Python journey by installing Python and setting up our programming environment. We learned about Python's philosophy and its importance in today's tech industry. Our first Python program was a simple print statement:\n",
    "\n",
    "\\```python\n",
    "print(\"Hello, World!\")\n",
    "\\```\n",
    "\n",
    "## Day 2: Python Basic Syntax 📘📗\n",
    "\n",
    "We dived into Python's basic syntax. We learned about the importance of indentation in Python as it defines the scope of loops, functions, and classes. We also explored how to write comments and docstrings in Python for better code readability. Additionally, we learned about Python variables and how to assign different types of data (like integers, floats, strings) to them.\n",
    "\n",
    "\\```python\n",
    "# This is a comment\n",
    "x = 10  # integer\n",
    "y = \"Hello\"  # string\n",
    "\\```\n",
    "\n",
    "## Day 3: Python Variables, Number and String Data Types, Type Conversion and Interaction ⚡🎈\n",
    "\n",
    "On Day 3, we deep-dived into Python variables and understood different data types like numbers (integers, floats) and strings. We saw how we could perform operations on these data types and understood type conversion in detail. Python allows us to convert one type of data into another type using built-in functions like int(), float(), str() etc. We also explored how to interact with these data types.\n",
    "\n",
    "\\```python\n",
    "x = 10  # integer\n",
    "y = 20.5  # float\n",
    "z = x + y  # summation\n",
    "str_z = str(z)  # type conversion to string\n",
    "print(str_z)  # print the result\n",
    "\\```"
   ]
  }
 ],
 "metadata": {
  "language_info": {
   "name": "python"
  },
  "orig_nbformat": 4
 },
 "nbformat": 4,
 "nbformat_minor": 2
}
