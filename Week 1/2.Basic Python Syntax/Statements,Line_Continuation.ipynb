{
 "cells": [
  {
   "attachments": {},
   "cell_type": "markdown",
   "metadata": {},
   "source": [
    "\n",
    "**Notebook 2: Python Statements, Line Continuation, and Quotations 📃**\n",
    "\n",
    "```markdown\n",
    "# Python Statements, Line Continuation, and Quotations 📃\n",
    "\n",
    "In Python, a statement is a unit of code that the Python interpreter can execute. For instance, `a = 1` is an assignment statement. \n",
    "\n",
    "If the statement is long, we can break it into multiple lines with the line continuation character (\\\\).\n",
    "\n",
    "```python\n",
    "a = 1 + 2 + 3 + \\\n",
    "    4 + 5 + 6 + \\\n",
    "    7 + 8 + 9\n",
    "print(a)  # Will print the sum from 1 to 9.\n"
   ]
  },
  {
   "attachments": {},
   "cell_type": "markdown",
   "metadata": {},
   "source": [
    "Python allows the use of single quotes ('), double quotes (\"), and triple quotes (''' or \"\"\") to denote a string."
   ]
  },
  {
   "cell_type": "code",
   "execution_count": null,
   "metadata": {},
   "outputs": [],
   "source": [
    "# All of the following are equivalent\n",
    "my_string = 'Hello'\n",
    "print(my_string)\n",
    "\n",
    "my_string = \"Hello\"\n",
    "print(my_string)\n",
    "\n",
    "my_string = '''Hello'''\n",
    "print(my_string)\n"
   ]
  },
  {
   "attachments": {},
   "cell_type": "markdown",
   "metadata": {},
   "source": [
    "The above will produce the same output"
   ]
  }
 ],
 "metadata": {
  "language_info": {
   "name": "python"
  },
  "orig_nbformat": 4
 },
 "nbformat": 4,
 "nbformat_minor": 2
}
