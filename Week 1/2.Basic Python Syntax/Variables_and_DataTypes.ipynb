{
 "cells": [
  {
   "attachments": {},
   "cell_type": "markdown",
   "metadata": {},
   "source": [
    "\n",
    "**Notebook 3: Python Variables and Data Types 🔢**\n",
    "\n",
    "```markdown\n",
    "# Python Variables and Data Types 🔢\n",
    "\n",
    "Variables are containers for storing data values. In Python, a variable is created the moment you first assign a value to it.\n",
    "\n",
    "```python\n",
    "x = 5\n",
    "y = \"Hello, World!\"\n"
   ]
  },
  {
   "attachments": {},
   "cell_type": "markdown",
   "metadata": {},
   "source": [
    "Python has various data types. Here are a few common ones: integers, float (real numbers), string (text), list (an ordered collection of items), tuple (an ordered, immutable collection of items), and dictionary (an unordered collection of data in a key:value pair form)."
   ]
  },
  {
   "cell_type": "code",
   "execution_count": null,
   "metadata": {},
   "outputs": [],
   "source": [
    "# Integer\n",
    "x = 5\n",
    "print(type(x))\n",
    "\n",
    "# Float\n",
    "y = 5.0\n",
    "print(type(y))\n",
    "\n",
    "# String\n",
    "z = \"Hello\"\n",
    "print(type(z))\n",
    "\n",
    "# List\n",
    "a = [1, 2, 3, 4]\n",
    "print(type(a))\n",
    "\n",
    "# Tuple\n",
    "b = (1, 2, 3, 4)\n",
    "print(type(b))\n",
    "\n",
    "# Dictionary\n",
    "c = {\"one\": 1, \"two\": 2, \"three\": 3}\n",
    "print(type(c))\n"
   ]
  },
  {
   "attachments": {},
   "cell_type": "markdown",
   "metadata": {},
   "source": [
    "# Exercise\n",
    "\n",
    "1. Create the following variables and print their types:\n",
    "   - An integer named `my_int`\n",
    "   - A float named `my_float`\n",
    "   - A string named `my_string`\n",
    "   - A list named `my_list`\n",
    "   - A tuple named `my_tuple`\n",
    "   - A dictionary named `my_dict`\n",
    "\n",
    "\n",
    "\n",
    "2. Check the type of each variable to make sure it matches what you expect.\n",
    "``\n"
   ]
  }
 ],
 "metadata": {
  "language_info": {
   "name": "python"
  },
  "orig_nbformat": 4
 },
 "nbformat": 4,
 "nbformat_minor": 2
}
