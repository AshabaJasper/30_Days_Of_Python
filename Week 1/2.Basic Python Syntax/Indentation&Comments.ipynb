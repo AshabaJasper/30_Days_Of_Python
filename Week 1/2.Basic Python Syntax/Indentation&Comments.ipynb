{
 "cells": [
  {
   "attachments": {},
   "cell_type": "markdown",
   "metadata": {},
   "source": [
    "# Day 2: Basic Python Syntax 🐍\n",
    "\n",
    "## Python Indentation and Comments 💬\n",
    "\n",
    "In Python, indentation is not just for readability; it is crucial for the functionality of the code. It is used to determine the grouping of statements. \n",
    "\n",
    "Let's consider the following example:\n",
    "\n",
    "```python\n",
    "def greet(name):\n",
    "    print(f\"Hello, {name}!\")  # The line with the print statement is indented with four spaces.\n",
    "\n",
    "greet(\"Alice\")  # No indentation here because this is not inside a function.\n"
   ]
  },
  {
   "attachments": {},
   "cell_type": "markdown",
   "metadata": {},
   "source": [
    "Comments are lines that exist in computer programs but are not executed. They are very useful for the person who is reading the code. In Python, anything written after the # symbol on the same line is considered a comment and is ignored by Python when running the code."
   ]
  },
  {
   "cell_type": "code",
   "execution_count": null,
   "metadata": {},
   "outputs": [],
   "source": [
    "# This is a comment. Python will ignore it when running the code.\n",
    "print(\"Hello, World!\")  # This is also a comment.\n"
   ]
  },
  {
   "attachments": {},
   "cell_type": "markdown",
   "metadata": {},
   "source": [
    "# Exercise\n",
    "\n",
    "1. Write a function called `multiply` that takes two arguments and returns their product. Make sure to use proper indentation. (To be done by the teacher)\n",
    "\n",
    "2. Write comments explaining what your function does, and what each line of code inside it does.\n"
   ]
  }
 ],
 "metadata": {
  "language_info": {
   "name": "python"
  },
  "orig_nbformat": 4
 },
 "nbformat": 4,
 "nbformat_minor": 2
}
