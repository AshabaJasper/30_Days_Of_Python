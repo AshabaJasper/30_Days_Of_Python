{
 "cells": [
  {
   "cell_type": "code",
   "execution_count": 9,
   "metadata": {},
   "outputs": [
    {
     "name": "stdout",
     "output_type": "stream",
     "text": [
      "Aleksa is 21 years old\n",
      "Aleksa  is 182 cm\n"
     ]
    }
   ],
   "source": [
    "name = \"Aleksa\"\n",
    "\n",
    "age = 21\n",
    "\n",
    "print(name+\" \"+\"is \"+str(age)+\" years old\")\n",
    "\n",
    "\n",
    "# datatype(what you want to change)\n",
    "\n",
    "height = 182.94\n",
    "\n",
    "print(name+\" \"+\" is \"+str(int(height))+ \" cm\") "
   ]
  },
  {
   "cell_type": "code",
   "execution_count": 15,
   "metadata": {},
   "outputs": [
    {
     "name": "stdout",
     "output_type": "stream",
     "text": [
      "Aleksa\n",
      "21\n",
      "My name is Aleksa and I am 21 years old\n",
      "You will be 31 years in 10 years\n"
     ]
    }
   ],
   "source": [
    "#input()\n",
    "\n",
    "name = input(\"what is your name: \")\n",
    "\n",
    "#by default the data type for input is always str\n",
    "\n",
    "age = int(input(\"How old are you: \"))\n",
    "\n",
    "print(name)\n",
    "print(age)\n",
    "print(\"My name is \"+name+\" and I am \"+str(age)+\" years old\")\n",
    "print(f\"You will be {age+10} years in 10 years\")"
   ]
  },
  {
   "cell_type": "code",
   "execution_count": 19,
   "metadata": {},
   "outputs": [
    {
     "name": "stdout",
     "output_type": "stream",
     "text": [
      "2 and 2\n",
      "The sum is 4\n"
     ]
    }
   ],
   "source": [
    "# 1. Prompt the user for two numbers. Convert these numbers to integers and print their sum.\n",
    "first_number = int(input(\"Enter the first number: \"))\n",
    "second_number = int(input(\"Enter the second number: \"))\n",
    "sum = first_number + second_number\n",
    "\n",
    "print(f\"{first_number} and {second_number}\")\n",
    "print(f\"The sum is {sum}\")\n",
    "\n"
   ]
  },
  {
   "cell_type": "code",
   "execution_count": 20,
   "metadata": {},
   "outputs": [
    {
     "name": "stdout",
     "output_type": "stream",
     "text": [
      "Hello Aleksa Angel!\n"
     ]
    }
   ],
   "source": [
    "# 2. Prompt the user for their first and last name. Concatenate the names and print a message that says \"Hello, [first name] [last name]!\"\n",
    "first_name = str(input(\"Enter youur first name: \"))\n",
    "last_name = str(input(\"Enter youur last name: \"))\n",
    "\n",
    "print(f\"Hello {first_name} {last_name}!\")"
   ]
  },
  {
   "cell_type": "code",
   "execution_count": 22,
   "metadata": {},
   "outputs": [
    {
     "ename": "ValueError",
     "evalue": "invalid literal for int() with base 10: 'Aleksa Angel'",
     "output_type": "error",
     "traceback": [
      "\u001b[1;31m---------------------------------------------------------------------------\u001b[0m",
      "\u001b[1;31mValueError\u001b[0m                                Traceback (most recent call last)",
      "\u001b[1;32mc:\\Users\\Ashaba's PC\\OneDrive\\Documents\\GitHub\\30_Days_Of_Python\\Work.ipynb Cell 5\u001b[0m line \u001b[0;36m6\n\u001b[0;32m      <a href='vscode-notebook-cell:/c%3A/Users/Ashaba%27s%20PC/OneDrive/Documents/GitHub/30_Days_Of_Python/Work.ipynb#W5sZmlsZQ%3D%3D?line=0'>1</a>\u001b[0m \u001b[39m# 3. Try converting a non-numerical string into an integer and see what kind of error you get.\u001b[39;00m\n\u001b[0;32m      <a href='vscode-notebook-cell:/c%3A/Users/Ashaba%27s%20PC/OneDrive/Documents/GitHub/30_Days_Of_Python/Work.ipynb#W5sZmlsZQ%3D%3D?line=3'>4</a>\u001b[0m name\u001b[39m=\u001b[39m \u001b[39m\"\u001b[39m\u001b[39mAleksa Angel\u001b[39m\u001b[39m\"\u001b[39m\n\u001b[1;32m----> <a href='vscode-notebook-cell:/c%3A/Users/Ashaba%27s%20PC/OneDrive/Documents/GitHub/30_Days_Of_Python/Work.ipynb#W5sZmlsZQ%3D%3D?line=5'>6</a>\u001b[0m \u001b[39mprint\u001b[39m(\u001b[39mint\u001b[39;49m(name))\n",
      "\u001b[1;31mValueError\u001b[0m: invalid literal for int() with base 10: 'Aleksa Angel'"
     ]
    }
   ],
   "source": [
    "# 3. Try converting a non-numerical string into an integer and see what kind of error you get.\n",
    "\n",
    "\n",
    "name= \"Aleksa Angel\"\n",
    "\n",
    "print(int(name))"
   ]
  }
 ],
 "metadata": {
  "kernelspec": {
   "display_name": "Python 3",
   "language": "python",
   "name": "python3"
  },
  "language_info": {
   "codemirror_mode": {
    "name": "ipython",
    "version": 3
   },
   "file_extension": ".py",
   "mimetype": "text/x-python",
   "name": "python",
   "nbconvert_exporter": "python",
   "pygments_lexer": "ipython3",
   "version": "3.11.4"
  },
  "orig_nbformat": 4
 },
 "nbformat": 4,
 "nbformat_minor": 2
}
