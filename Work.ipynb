{
 "cells": [
  {
   "cell_type": "code",
   "execution_count": 9,
   "metadata": {},
   "outputs": [
    {
     "name": "stdout",
     "output_type": "stream",
     "text": [
      "Aleksa is 21 years old\n",
      "Aleksa  is 182 cm\n"
     ]
    }
   ],
   "source": [
    "name = \"Aleksa\"\n",
    "\n",
    "age = 21\n",
    "\n",
    "print(name+\" \"+\"is \"+str(age)+\" years old\")\n",
    "\n",
    "\n",
    "# datatype(what you want to change)\n",
    "\n",
    "height = 182.94\n",
    "\n",
    "print(name+\" \"+\" is \"+str(int(height))+ \" cm\") "
   ]
  },
  {
   "cell_type": "code",
   "execution_count": 15,
   "metadata": {},
   "outputs": [
    {
     "name": "stdout",
     "output_type": "stream",
     "text": [
      "Aleksa\n",
      "21\n",
      "My name is Aleksa and I am 21 years old\n",
      "You will be 31 years in 10 years\n"
     ]
    }
   ],
   "source": [
    "#input()\n",
    "\n",
    "name = input(\"what is your name: \")\n",
    "\n",
    "#by default the data type for input is always str\n",
    "\n",
    "age = int(input(\"How old are you: \"))\n",
    "\n",
    "print(name)\n",
    "print(age)\n",
    "print(\"My name is \"+name+\" and I am \"+str(age)+\" years old\")\n",
    "print(f\"You will be {age+10} years in 10 years\")"
   ]
  },
  {
   "cell_type": "code",
   "execution_count": 19,
   "metadata": {},
   "outputs": [
    {
     "name": "stdout",
     "output_type": "stream",
     "text": [
      "2 and 2\n",
      "The sum is 4\n"
     ]
    }
   ],
   "source": [
    "# 1. Prompt the user for two numbers. Convert these numbers to integers and print their sum.\n",
    "first_number = int(input(\"Enter the first number: \"))\n",
    "second_number = int(input(\"Enter the second number: \"))\n",
    "sum = first_number + second_number\n",
    "\n",
    "print(f\"{first_number} and {second_number}\")\n",
    "print(f\"The sum is {sum}\")\n",
    "\n"
   ]
  },
  {
   "cell_type": "code",
   "execution_count": 20,
   "metadata": {},
   "outputs": [
    {
     "name": "stdout",
     "output_type": "stream",
     "text": [
      "Hello Aleksa Angel!\n"
     ]
    }
   ],
   "source": [
    "# 2. Prompt the user for their first and last name. Concatenate the names and print a message that says \"Hello, [first name] [last name]!\"\n",
    "first_name = str(input(\"Enter youur first name: \"))\n",
    "last_name = str(input(\"Enter youur last name: \"))\n",
    "\n",
    "print(f\"Hello {first_name} {last_name}!\")"
   ]
  },
  {
   "cell_type": "code",
   "execution_count": 22,
   "metadata": {},
   "outputs": [
    {
     "ename": "ValueError",
     "evalue": "invalid literal for int() with base 10: 'Aleksa Angel'",
     "output_type": "error",
     "traceback": [
      "\u001b[1;31m---------------------------------------------------------------------------\u001b[0m",
      "\u001b[1;31mValueError\u001b[0m                                Traceback (most recent call last)",
      "\u001b[1;32mc:\\Users\\Ashaba's PC\\OneDrive\\Documents\\GitHub\\30_Days_Of_Python\\Work.ipynb Cell 5\u001b[0m line \u001b[0;36m6\n\u001b[0;32m      <a href='vscode-notebook-cell:/c%3A/Users/Ashaba%27s%20PC/OneDrive/Documents/GitHub/30_Days_Of_Python/Work.ipynb#W5sZmlsZQ%3D%3D?line=0'>1</a>\u001b[0m \u001b[39m# 3. Try converting a non-numerical string into an integer and see what kind of error you get.\u001b[39;00m\n\u001b[0;32m      <a href='vscode-notebook-cell:/c%3A/Users/Ashaba%27s%20PC/OneDrive/Documents/GitHub/30_Days_Of_Python/Work.ipynb#W5sZmlsZQ%3D%3D?line=3'>4</a>\u001b[0m name\u001b[39m=\u001b[39m \u001b[39m\"\u001b[39m\u001b[39mAleksa Angel\u001b[39m\u001b[39m\"\u001b[39m\n\u001b[1;32m----> <a href='vscode-notebook-cell:/c%3A/Users/Ashaba%27s%20PC/OneDrive/Documents/GitHub/30_Days_Of_Python/Work.ipynb#W5sZmlsZQ%3D%3D?line=5'>6</a>\u001b[0m \u001b[39mprint\u001b[39m(\u001b[39mint\u001b[39;49m(name))\n",
      "\u001b[1;31mValueError\u001b[0m: invalid literal for int() with base 10: 'Aleksa Angel'"
     ]
    }
   ],
   "source": [
    "# 3. Try converting a non-numerical string into an integer and see what kind of error you get.\n",
    "\n",
    "\n",
    "name= \"Aleksa Angel\"\n",
    "\n",
    "print(int(name))"
   ]
  },
  {
   "cell_type": "code",
   "execution_count": 31,
   "metadata": {},
   "outputs": [
    {
     "name": "stdout",
     "output_type": "stream",
     "text": [
      "True\n"
     ]
    }
   ],
   "source": [
    "# =  assign something\n",
    "\n",
    "# ==  equal to \n",
    "\n",
    "age = 21\n",
    "\n",
    "age2 = 21\n",
    "\n",
    "age+=10   #31\n",
    "                             #and or \n",
    "                             \n",
    "                             \n",
    "if age > age2:      #T and F or F  1 * 0 + 0 = 0\n",
    "    print(\"True\")\n",
    "else:\n",
    "    print(\"False\")\n"
   ]
  },
  {
   "cell_type": "code",
   "execution_count": 36,
   "metadata": {},
   "outputs": [
    {
     "name": "stdout",
     "output_type": "stream",
     "text": [
      "10\n"
     ]
    }
   ],
   "source": [
    "name = \"Aleksandra\"\n",
    "\n",
    "print(len(name))"
   ]
  },
  {
   "cell_type": "code",
   "execution_count": 40,
   "metadata": {},
   "outputs": [
    {
     "name": "stdout",
     "output_type": "stream",
     "text": [
      "watch\n",
      "Necklace\n"
     ]
    }
   ],
   "source": [
    "fruits = [\"banana\",\"apple\",\"pineapple\"]\n",
    "\n",
    "#items in list of items\n",
    "\n",
    "birthday_gift= [\"watch\", \"Necklace\"]\n",
    "\n",
    "# for [new variable] in the variable you want to loop in \n",
    "for gift in birthday_gift:\n",
    "    print(gift)"
   ]
  },
  {
   "cell_type": "code",
   "execution_count": 44,
   "metadata": {},
   "outputs": [
    {
     "name": "stdout",
     "output_type": "stream",
     "text": [
      "0\n",
      "1\n",
      "0\n",
      "1\n",
      "0\n",
      "1\n",
      "0\n",
      "1\n",
      "0\n",
      "1\n",
      "0\n",
      "1\n",
      "0\n",
      "1\n",
      "0\n",
      "1\n",
      "0\n",
      "1\n",
      "0\n",
      "1\n"
     ]
    }
   ],
   "source": [
    "for number in range(10):\n",
    "   for new_number in range(2):\n",
    "       print(new_number)"
   ]
  },
  {
   "cell_type": "code",
   "execution_count": null,
   "metadata": {},
   "outputs": [],
   "source": [
    "print(\"Welcome to this bad website\")\n",
    "print(\"Please make sure you are above 18 to continue\")\n",
    "\n",
    "age = int(input(\"Enter your age: \"))\n",
    "\n"
   ]
  },
  {
   "cell_type": "code",
   "execution_count": 51,
   "metadata": {},
   "outputs": [
    {
     "name": "stdout",
     "output_type": "stream",
     "text": [
      "Number is zero\n"
     ]
    }
   ],
   "source": [
    "# 1. Write a Python program to check if a number is positive, negative or zero using if-elif-else statements.\n",
    "\n",
    "number = int(input(\"Enter your number: \"))\n",
    "\n",
    "if number > 0:\n",
    "    print(\"Number is positive\")\n",
    "elif number < 0:\n",
    "    print(\"Number is negative\")\n",
    "else:\n",
    "    print(\"Number is zero\")\n"
   ]
  },
  {
   "cell_type": "code",
   "execution_count": 58,
   "metadata": {},
   "outputs": [
    {
     "name": "stdout",
     "output_type": "stream",
     "text": [
      "The biggest number is the second\n"
     ]
    }
   ],
   "source": [
    "# 2. Write a Python program to find the largest among three numbers using nested if statements.\n",
    "\n",
    "first_number = 45\n",
    "\n",
    "second_number = 108\n",
    "\n",
    "third_number = 13\n",
    "\n",
    "if first_number > second_number and first_number > third_number:\n",
    "    print(\"The biggest number is the first\")\n",
    "elif second_number > first_number and second_number > third_number:\n",
    "    print(\"The biggest number is the second\")\n",
    "elif third_number > first_number and third_number > second_number:\n",
    "    print(\"The biggest number is the third\")\n",
    "else:\n",
    "    print(\"order not found\")"
   ]
  },
  {
   "cell_type": "code",
   "execution_count": 59,
   "metadata": {},
   "outputs": [],
   "source": [
    "# 3. Write a Python program to check if a year is a leap year or not."
   ]
  }
 ],
 "metadata": {
  "kernelspec": {
   "display_name": "Python 3",
   "language": "python",
   "name": "python3"
  },
  "language_info": {
   "codemirror_mode": {
    "name": "ipython",
    "version": 3
   },
   "file_extension": ".py",
   "mimetype": "text/x-python",
   "name": "python",
   "nbconvert_exporter": "python",
   "pygments_lexer": "ipython3",
   "version": "3.11.4"
  },
  "orig_nbformat": 4
 },
 "nbformat": 4,
 "nbformat_minor": 2
}
